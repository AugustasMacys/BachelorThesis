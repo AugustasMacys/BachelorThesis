{
 "cells": [
  {
   "cell_type": "code",
   "execution_count": 4,
   "metadata": {},
   "outputs": [],
   "source": [
    "import pandas as pd\n",
    "import os"
   ]
  },
  {
   "cell_type": "code",
   "execution_count": null,
   "metadata": {},
   "outputs": [],
   "source": []
  },
  {
   "cell_type": "code",
   "execution_count": 5,
   "metadata": {},
   "outputs": [],
   "source": [
    "dataframes_pairs_folder = r\"D:\\deepfakes\\dataframes_pairs\""
   ]
  },
  {
   "cell_type": "code",
   "execution_count": 36,
   "metadata": {},
   "outputs": [],
   "source": [
    "dataframes_pairs_updated_folder = r\"D:\\deepfakes\\dataframes_pairs_updated\""
   ]
  },
  {
   "cell_type": "code",
   "execution_count": 6,
   "metadata": {},
   "outputs": [],
   "source": [
    "real_crops = os.path.join(dataframes_pairs_folder, \"real_crops.csv\")"
   ]
  },
  {
   "cell_type": "code",
   "execution_count": 9,
   "metadata": {},
   "outputs": [],
   "source": [
    "real_crops_dataframe = pd.read_csv(real_crops)"
   ]
  },
  {
   "cell_type": "code",
   "execution_count": 10,
   "metadata": {},
   "outputs": [],
   "source": [
    "image_paths = real_crops_dataframe.image_path"
   ]
  },
  {
   "cell_type": "code",
   "execution_count": 11,
   "metadata": {},
   "outputs": [
    {
     "data": {
      "text/plain": [
       "287310"
      ]
     },
     "execution_count": 11,
     "metadata": {},
     "output_type": "execute_result"
    }
   ],
   "source": [
    "len(image_paths)"
   ]
  },
  {
   "cell_type": "code",
   "execution_count": 12,
   "metadata": {},
   "outputs": [
    {
     "data": {
      "text/plain": [
       "0         D:\\deepfakes\\training_real_faces\\wynotylpnm\\wy...\n",
       "1         D:\\deepfakes\\training_real_faces\\wynotylpnm\\wy...\n",
       "2         D:\\deepfakes\\training_real_faces\\wynotylpnm\\wy...\n",
       "3         D:\\deepfakes\\training_real_faces\\wynotylpnm\\wy...\n",
       "4         D:\\deepfakes\\training_real_faces\\wynotylpnm\\wy...\n",
       "                                ...                        \n",
       "287305    D:\\deepfakes\\training_real_faces\\hysmzkqsdl\\hy...\n",
       "287306    D:\\deepfakes\\training_real_faces\\hysmzkqsdl\\hy...\n",
       "287307    D:\\deepfakes\\training_real_faces\\hysmzkqsdl\\hy...\n",
       "287308    D:\\deepfakes\\training_real_faces\\hysmzkqsdl\\hy...\n",
       "287309    D:\\deepfakes\\training_real_faces\\hysmzkqsdl\\hy...\n",
       "Name: image_path, Length: 287310, dtype: object"
      ]
     },
     "execution_count": 12,
     "metadata": {},
     "output_type": "execute_result"
    }
   ],
   "source": [
    "image_paths"
   ]
  },
  {
   "cell_type": "code",
   "execution_count": 16,
   "metadata": {},
   "outputs": [],
   "source": [
    "def collect_non_existing_paths_indices(paths):\n",
    "    non_existing_indices = []\n",
    "    for path in paths:\n",
    "        if not os.path.isfile(path):\n",
    "            non_existing_indices.append(paths[paths == path].index[0])\n",
    "            \n",
    "    return non_existing_indices\n",
    "        "
   ]
  },
  {
   "cell_type": "code",
   "execution_count": 18,
   "metadata": {},
   "outputs": [],
   "source": [
    "non_existing_ids = collect_non_existing_paths_indices(image_paths)"
   ]
  },
  {
   "cell_type": "code",
   "execution_count": 20,
   "metadata": {},
   "outputs": [
    {
     "data": {
      "text/plain": [
       "1490"
      ]
     },
     "execution_count": 20,
     "metadata": {},
     "output_type": "execute_result"
    }
   ],
   "source": [
    "len(non_existing_ids)"
   ]
  },
  {
   "cell_type": "code",
   "execution_count": 21,
   "metadata": {},
   "outputs": [],
   "source": [
    "real_crops_dataframe = real_crops_dataframe.drop(non_existing_ids)"
   ]
  },
  {
   "cell_type": "code",
   "execution_count": 22,
   "metadata": {},
   "outputs": [
    {
     "data": {
      "text/plain": [
       "285820"
      ]
     },
     "execution_count": 22,
     "metadata": {},
     "output_type": "execute_result"
    }
   ],
   "source": [
    "len(real_crops_dataframe)"
   ]
  },
  {
   "cell_type": "code",
   "execution_count": 24,
   "metadata": {},
   "outputs": [],
   "source": [
    "real_crops_dataframe = real_crops_dataframe.reset_index()"
   ]
  },
  {
   "cell_type": "code",
   "execution_count": 25,
   "metadata": {},
   "outputs": [
    {
     "data": {
      "text/html": [
       "<div>\n",
       "<style scoped>\n",
       "    .dataframe tbody tr th:only-of-type {\n",
       "        vertical-align: middle;\n",
       "    }\n",
       "\n",
       "    .dataframe tbody tr th {\n",
       "        vertical-align: top;\n",
       "    }\n",
       "\n",
       "    .dataframe thead th {\n",
       "        text-align: right;\n",
       "    }\n",
       "</style>\n",
       "<table border=\"1\" class=\"dataframe\">\n",
       "  <thead>\n",
       "    <tr style=\"text-align: right;\">\n",
       "      <th></th>\n",
       "      <th>index</th>\n",
       "      <th>image_path</th>\n",
       "      <th>label</th>\n",
       "    </tr>\n",
       "  </thead>\n",
       "  <tbody>\n",
       "    <tr>\n",
       "      <th>0</th>\n",
       "      <td>0</td>\n",
       "      <td>D:\\deepfakes\\training_real_faces\\wynotylpnm\\wy...</td>\n",
       "      <td>0</td>\n",
       "    </tr>\n",
       "    <tr>\n",
       "      <th>1</th>\n",
       "      <td>1</td>\n",
       "      <td>D:\\deepfakes\\training_real_faces\\wynotylpnm\\wy...</td>\n",
       "      <td>0</td>\n",
       "    </tr>\n",
       "    <tr>\n",
       "      <th>2</th>\n",
       "      <td>2</td>\n",
       "      <td>D:\\deepfakes\\training_real_faces\\wynotylpnm\\wy...</td>\n",
       "      <td>0</td>\n",
       "    </tr>\n",
       "    <tr>\n",
       "      <th>3</th>\n",
       "      <td>3</td>\n",
       "      <td>D:\\deepfakes\\training_real_faces\\wynotylpnm\\wy...</td>\n",
       "      <td>0</td>\n",
       "    </tr>\n",
       "    <tr>\n",
       "      <th>4</th>\n",
       "      <td>4</td>\n",
       "      <td>D:\\deepfakes\\training_real_faces\\wynotylpnm\\wy...</td>\n",
       "      <td>0</td>\n",
       "    </tr>\n",
       "    <tr>\n",
       "      <th>...</th>\n",
       "      <td>...</td>\n",
       "      <td>...</td>\n",
       "      <td>...</td>\n",
       "    </tr>\n",
       "    <tr>\n",
       "      <th>285815</th>\n",
       "      <td>287305</td>\n",
       "      <td>D:\\deepfakes\\training_real_faces\\hysmzkqsdl\\hy...</td>\n",
       "      <td>0</td>\n",
       "    </tr>\n",
       "    <tr>\n",
       "      <th>285816</th>\n",
       "      <td>287306</td>\n",
       "      <td>D:\\deepfakes\\training_real_faces\\hysmzkqsdl\\hy...</td>\n",
       "      <td>0</td>\n",
       "    </tr>\n",
       "    <tr>\n",
       "      <th>285817</th>\n",
       "      <td>287307</td>\n",
       "      <td>D:\\deepfakes\\training_real_faces\\hysmzkqsdl\\hy...</td>\n",
       "      <td>0</td>\n",
       "    </tr>\n",
       "    <tr>\n",
       "      <th>285818</th>\n",
       "      <td>287308</td>\n",
       "      <td>D:\\deepfakes\\training_real_faces\\hysmzkqsdl\\hy...</td>\n",
       "      <td>0</td>\n",
       "    </tr>\n",
       "    <tr>\n",
       "      <th>285819</th>\n",
       "      <td>287309</td>\n",
       "      <td>D:\\deepfakes\\training_real_faces\\hysmzkqsdl\\hy...</td>\n",
       "      <td>0</td>\n",
       "    </tr>\n",
       "  </tbody>\n",
       "</table>\n",
       "<p>285820 rows × 3 columns</p>\n",
       "</div>"
      ],
      "text/plain": [
       "         index                                         image_path  label\n",
       "0            0  D:\\deepfakes\\training_real_faces\\wynotylpnm\\wy...      0\n",
       "1            1  D:\\deepfakes\\training_real_faces\\wynotylpnm\\wy...      0\n",
       "2            2  D:\\deepfakes\\training_real_faces\\wynotylpnm\\wy...      0\n",
       "3            3  D:\\deepfakes\\training_real_faces\\wynotylpnm\\wy...      0\n",
       "4            4  D:\\deepfakes\\training_real_faces\\wynotylpnm\\wy...      0\n",
       "...        ...                                                ...    ...\n",
       "285815  287305  D:\\deepfakes\\training_real_faces\\hysmzkqsdl\\hy...      0\n",
       "285816  287306  D:\\deepfakes\\training_real_faces\\hysmzkqsdl\\hy...      0\n",
       "285817  287307  D:\\deepfakes\\training_real_faces\\hysmzkqsdl\\hy...      0\n",
       "285818  287308  D:\\deepfakes\\training_real_faces\\hysmzkqsdl\\hy...      0\n",
       "285819  287309  D:\\deepfakes\\training_real_faces\\hysmzkqsdl\\hy...      0\n",
       "\n",
       "[285820 rows x 3 columns]"
      ]
     },
     "execution_count": 25,
     "metadata": {},
     "output_type": "execute_result"
    }
   ],
   "source": [
    "real_crops_dataframe"
   ]
  },
  {
   "cell_type": "code",
   "execution_count": 26,
   "metadata": {},
   "outputs": [],
   "source": [
    "del real_crops_dataframe[\"index\"]"
   ]
  },
  {
   "cell_type": "code",
   "execution_count": 27,
   "metadata": {},
   "outputs": [
    {
     "data": {
      "text/html": [
       "<div>\n",
       "<style scoped>\n",
       "    .dataframe tbody tr th:only-of-type {\n",
       "        vertical-align: middle;\n",
       "    }\n",
       "\n",
       "    .dataframe tbody tr th {\n",
       "        vertical-align: top;\n",
       "    }\n",
       "\n",
       "    .dataframe thead th {\n",
       "        text-align: right;\n",
       "    }\n",
       "</style>\n",
       "<table border=\"1\" class=\"dataframe\">\n",
       "  <thead>\n",
       "    <tr style=\"text-align: right;\">\n",
       "      <th></th>\n",
       "      <th>image_path</th>\n",
       "      <th>label</th>\n",
       "    </tr>\n",
       "  </thead>\n",
       "  <tbody>\n",
       "    <tr>\n",
       "      <th>0</th>\n",
       "      <td>D:\\deepfakes\\training_real_faces\\wynotylpnm\\wy...</td>\n",
       "      <td>0</td>\n",
       "    </tr>\n",
       "    <tr>\n",
       "      <th>1</th>\n",
       "      <td>D:\\deepfakes\\training_real_faces\\wynotylpnm\\wy...</td>\n",
       "      <td>0</td>\n",
       "    </tr>\n",
       "    <tr>\n",
       "      <th>2</th>\n",
       "      <td>D:\\deepfakes\\training_real_faces\\wynotylpnm\\wy...</td>\n",
       "      <td>0</td>\n",
       "    </tr>\n",
       "    <tr>\n",
       "      <th>3</th>\n",
       "      <td>D:\\deepfakes\\training_real_faces\\wynotylpnm\\wy...</td>\n",
       "      <td>0</td>\n",
       "    </tr>\n",
       "    <tr>\n",
       "      <th>4</th>\n",
       "      <td>D:\\deepfakes\\training_real_faces\\wynotylpnm\\wy...</td>\n",
       "      <td>0</td>\n",
       "    </tr>\n",
       "    <tr>\n",
       "      <th>...</th>\n",
       "      <td>...</td>\n",
       "      <td>...</td>\n",
       "    </tr>\n",
       "    <tr>\n",
       "      <th>285815</th>\n",
       "      <td>D:\\deepfakes\\training_real_faces\\hysmzkqsdl\\hy...</td>\n",
       "      <td>0</td>\n",
       "    </tr>\n",
       "    <tr>\n",
       "      <th>285816</th>\n",
       "      <td>D:\\deepfakes\\training_real_faces\\hysmzkqsdl\\hy...</td>\n",
       "      <td>0</td>\n",
       "    </tr>\n",
       "    <tr>\n",
       "      <th>285817</th>\n",
       "      <td>D:\\deepfakes\\training_real_faces\\hysmzkqsdl\\hy...</td>\n",
       "      <td>0</td>\n",
       "    </tr>\n",
       "    <tr>\n",
       "      <th>285818</th>\n",
       "      <td>D:\\deepfakes\\training_real_faces\\hysmzkqsdl\\hy...</td>\n",
       "      <td>0</td>\n",
       "    </tr>\n",
       "    <tr>\n",
       "      <th>285819</th>\n",
       "      <td>D:\\deepfakes\\training_real_faces\\hysmzkqsdl\\hy...</td>\n",
       "      <td>0</td>\n",
       "    </tr>\n",
       "  </tbody>\n",
       "</table>\n",
       "<p>285820 rows × 2 columns</p>\n",
       "</div>"
      ],
      "text/plain": [
       "                                               image_path  label\n",
       "0       D:\\deepfakes\\training_real_faces\\wynotylpnm\\wy...      0\n",
       "1       D:\\deepfakes\\training_real_faces\\wynotylpnm\\wy...      0\n",
       "2       D:\\deepfakes\\training_real_faces\\wynotylpnm\\wy...      0\n",
       "3       D:\\deepfakes\\training_real_faces\\wynotylpnm\\wy...      0\n",
       "4       D:\\deepfakes\\training_real_faces\\wynotylpnm\\wy...      0\n",
       "...                                                   ...    ...\n",
       "285815  D:\\deepfakes\\training_real_faces\\hysmzkqsdl\\hy...      0\n",
       "285816  D:\\deepfakes\\training_real_faces\\hysmzkqsdl\\hy...      0\n",
       "285817  D:\\deepfakes\\training_real_faces\\hysmzkqsdl\\hy...      0\n",
       "285818  D:\\deepfakes\\training_real_faces\\hysmzkqsdl\\hy...      0\n",
       "285819  D:\\deepfakes\\training_real_faces\\hysmzkqsdl\\hy...      0\n",
       "\n",
       "[285820 rows x 2 columns]"
      ]
     },
     "execution_count": 27,
     "metadata": {},
     "output_type": "execute_result"
    }
   ],
   "source": [
    "real_crops_dataframe"
   ]
  },
  {
   "cell_type": "markdown",
   "metadata": {},
   "source": [
    "### Delete corresponding rows in fake crops"
   ]
  },
  {
   "cell_type": "code",
   "execution_count": 30,
   "metadata": {},
   "outputs": [],
   "source": [
    "fake_crops = os.path.join(dataframes_pairs_folder, \"fake_crops.csv\")"
   ]
  },
  {
   "cell_type": "code",
   "execution_count": 31,
   "metadata": {},
   "outputs": [],
   "source": [
    "fake_crops_dataframe = pd.read_csv(fake_crops)"
   ]
  },
  {
   "cell_type": "code",
   "execution_count": 32,
   "metadata": {},
   "outputs": [],
   "source": [
    "fake_crops_dataframe = fake_crops_dataframe.drop(non_existing_ids).reset_index()"
   ]
  },
  {
   "cell_type": "code",
   "execution_count": 34,
   "metadata": {},
   "outputs": [],
   "source": [
    "del fake_crops_dataframe[\"index\"]"
   ]
  },
  {
   "cell_type": "code",
   "execution_count": 35,
   "metadata": {},
   "outputs": [
    {
     "data": {
      "text/html": [
       "<div>\n",
       "<style scoped>\n",
       "    .dataframe tbody tr th:only-of-type {\n",
       "        vertical-align: middle;\n",
       "    }\n",
       "\n",
       "    .dataframe tbody tr th {\n",
       "        vertical-align: top;\n",
       "    }\n",
       "\n",
       "    .dataframe thead th {\n",
       "        text-align: right;\n",
       "    }\n",
       "</style>\n",
       "<table border=\"1\" class=\"dataframe\">\n",
       "  <thead>\n",
       "    <tr style=\"text-align: right;\">\n",
       "      <th></th>\n",
       "      <th>image_path</th>\n",
       "      <th>label</th>\n",
       "    </tr>\n",
       "  </thead>\n",
       "  <tbody>\n",
       "    <tr>\n",
       "      <th>0</th>\n",
       "      <td>D:\\deepfakes\\training_fake_faces\\owxbbpjpch\\ow...</td>\n",
       "      <td>1</td>\n",
       "    </tr>\n",
       "    <tr>\n",
       "      <th>1</th>\n",
       "      <td>D:\\deepfakes\\training_fake_faces\\owxbbpjpch\\ow...</td>\n",
       "      <td>1</td>\n",
       "    </tr>\n",
       "    <tr>\n",
       "      <th>2</th>\n",
       "      <td>D:\\deepfakes\\training_fake_faces\\owxbbpjpch\\ow...</td>\n",
       "      <td>1</td>\n",
       "    </tr>\n",
       "    <tr>\n",
       "      <th>3</th>\n",
       "      <td>D:\\deepfakes\\training_fake_faces\\owxbbpjpch\\ow...</td>\n",
       "      <td>1</td>\n",
       "    </tr>\n",
       "    <tr>\n",
       "      <th>4</th>\n",
       "      <td>D:\\deepfakes\\training_fake_faces\\owxbbpjpch\\ow...</td>\n",
       "      <td>1</td>\n",
       "    </tr>\n",
       "    <tr>\n",
       "      <th>...</th>\n",
       "      <td>...</td>\n",
       "      <td>...</td>\n",
       "    </tr>\n",
       "    <tr>\n",
       "      <th>285815</th>\n",
       "      <td>D:\\deepfakes\\training_fake_faces\\ohmkmcfxul\\oh...</td>\n",
       "      <td>1</td>\n",
       "    </tr>\n",
       "    <tr>\n",
       "      <th>285816</th>\n",
       "      <td>D:\\deepfakes\\training_fake_faces\\ohmkmcfxul\\oh...</td>\n",
       "      <td>1</td>\n",
       "    </tr>\n",
       "    <tr>\n",
       "      <th>285817</th>\n",
       "      <td>D:\\deepfakes\\training_fake_faces\\ohmkmcfxul\\oh...</td>\n",
       "      <td>1</td>\n",
       "    </tr>\n",
       "    <tr>\n",
       "      <th>285818</th>\n",
       "      <td>D:\\deepfakes\\training_fake_faces\\ohmkmcfxul\\oh...</td>\n",
       "      <td>1</td>\n",
       "    </tr>\n",
       "    <tr>\n",
       "      <th>285819</th>\n",
       "      <td>D:\\deepfakes\\training_fake_faces\\ohmkmcfxul\\oh...</td>\n",
       "      <td>1</td>\n",
       "    </tr>\n",
       "  </tbody>\n",
       "</table>\n",
       "<p>285820 rows × 2 columns</p>\n",
       "</div>"
      ],
      "text/plain": [
       "                                               image_path  label\n",
       "0       D:\\deepfakes\\training_fake_faces\\owxbbpjpch\\ow...      1\n",
       "1       D:\\deepfakes\\training_fake_faces\\owxbbpjpch\\ow...      1\n",
       "2       D:\\deepfakes\\training_fake_faces\\owxbbpjpch\\ow...      1\n",
       "3       D:\\deepfakes\\training_fake_faces\\owxbbpjpch\\ow...      1\n",
       "4       D:\\deepfakes\\training_fake_faces\\owxbbpjpch\\ow...      1\n",
       "...                                                   ...    ...\n",
       "285815  D:\\deepfakes\\training_fake_faces\\ohmkmcfxul\\oh...      1\n",
       "285816  D:\\deepfakes\\training_fake_faces\\ohmkmcfxul\\oh...      1\n",
       "285817  D:\\deepfakes\\training_fake_faces\\ohmkmcfxul\\oh...      1\n",
       "285818  D:\\deepfakes\\training_fake_faces\\ohmkmcfxul\\oh...      1\n",
       "285819  D:\\deepfakes\\training_fake_faces\\ohmkmcfxul\\oh...      1\n",
       "\n",
       "[285820 rows x 2 columns]"
      ]
     },
     "execution_count": 35,
     "metadata": {},
     "output_type": "execute_result"
    }
   ],
   "source": [
    "fake_crops_dataframe"
   ]
  },
  {
   "cell_type": "code",
   "execution_count": 37,
   "metadata": {},
   "outputs": [],
   "source": [
    "real_crops_dataframe.to_csv(os.path.join(dataframes_pairs_updated_folder,\"real_crops.csv\"), index=False)\n",
    "fake_crops_dataframe.to_csv(os.path.join(dataframes_pairs_updated_folder,\"fake_crops.csv\"), index=False)"
   ]
  },
  {
   "cell_type": "markdown",
   "metadata": {},
   "source": [
    "### Do the same for remaining dataframes"
   ]
  },
  {
   "cell_type": "code",
   "execution_count": 38,
   "metadata": {},
   "outputs": [],
   "source": [
    "real_crops = os.path.join(dataframes_pairs_folder, \"real_crops2.csv\")\n",
    "real_crops_dataframe = pd.read_csv(real_crops)"
   ]
  },
  {
   "cell_type": "code",
   "execution_count": 39,
   "metadata": {},
   "outputs": [],
   "source": [
    "image_paths = real_crops_dataframe.image_path\n",
    "non_existing_ids = collect_non_existing_paths_indices(image_paths)"
   ]
  },
  {
   "cell_type": "code",
   "execution_count": 40,
   "metadata": {},
   "outputs": [
    {
     "name": "stdout",
     "output_type": "stream",
     "text": [
      "1285\n"
     ]
    }
   ],
   "source": [
    "print(len(non_existing_ids))"
   ]
  },
  {
   "cell_type": "code",
   "execution_count": 41,
   "metadata": {},
   "outputs": [],
   "source": [
    "real_crops_dataframe = real_crops_dataframe.drop(non_existing_ids).reset_index()"
   ]
  },
  {
   "cell_type": "code",
   "execution_count": 42,
   "metadata": {},
   "outputs": [],
   "source": [
    "del real_crops_dataframe[\"index\"]"
   ]
  },
  {
   "cell_type": "code",
   "execution_count": 43,
   "metadata": {},
   "outputs": [
    {
     "data": {
      "text/html": [
       "<div>\n",
       "<style scoped>\n",
       "    .dataframe tbody tr th:only-of-type {\n",
       "        vertical-align: middle;\n",
       "    }\n",
       "\n",
       "    .dataframe tbody tr th {\n",
       "        vertical-align: top;\n",
       "    }\n",
       "\n",
       "    .dataframe thead th {\n",
       "        text-align: right;\n",
       "    }\n",
       "</style>\n",
       "<table border=\"1\" class=\"dataframe\">\n",
       "  <thead>\n",
       "    <tr style=\"text-align: right;\">\n",
       "      <th></th>\n",
       "      <th>image_path</th>\n",
       "      <th>label</th>\n",
       "    </tr>\n",
       "  </thead>\n",
       "  <tbody>\n",
       "    <tr>\n",
       "      <th>0</th>\n",
       "      <td>D:\\deepfakes\\training_real_faces\\vpmyeepbep\\vp...</td>\n",
       "      <td>0</td>\n",
       "    </tr>\n",
       "    <tr>\n",
       "      <th>1</th>\n",
       "      <td>D:\\deepfakes\\training_real_faces\\vpmyeepbep\\vp...</td>\n",
       "      <td>0</td>\n",
       "    </tr>\n",
       "    <tr>\n",
       "      <th>2</th>\n",
       "      <td>D:\\deepfakes\\training_real_faces\\vpmyeepbep\\vp...</td>\n",
       "      <td>0</td>\n",
       "    </tr>\n",
       "    <tr>\n",
       "      <th>3</th>\n",
       "      <td>D:\\deepfakes\\training_real_faces\\vpmyeepbep\\vp...</td>\n",
       "      <td>0</td>\n",
       "    </tr>\n",
       "    <tr>\n",
       "      <th>4</th>\n",
       "      <td>D:\\deepfakes\\training_real_faces\\vpmyeepbep\\vp...</td>\n",
       "      <td>0</td>\n",
       "    </tr>\n",
       "    <tr>\n",
       "      <th>...</th>\n",
       "      <td>...</td>\n",
       "      <td>...</td>\n",
       "    </tr>\n",
       "    <tr>\n",
       "      <th>219090</th>\n",
       "      <td>D:\\deepfakes\\training_real_faces\\xeszqdbvwi\\xe...</td>\n",
       "      <td>0</td>\n",
       "    </tr>\n",
       "    <tr>\n",
       "      <th>219091</th>\n",
       "      <td>D:\\deepfakes\\training_real_faces\\xeszqdbvwi\\xe...</td>\n",
       "      <td>0</td>\n",
       "    </tr>\n",
       "    <tr>\n",
       "      <th>219092</th>\n",
       "      <td>D:\\deepfakes\\training_real_faces\\xeszqdbvwi\\xe...</td>\n",
       "      <td>0</td>\n",
       "    </tr>\n",
       "    <tr>\n",
       "      <th>219093</th>\n",
       "      <td>D:\\deepfakes\\training_real_faces\\xeszqdbvwi\\xe...</td>\n",
       "      <td>0</td>\n",
       "    </tr>\n",
       "    <tr>\n",
       "      <th>219094</th>\n",
       "      <td>D:\\deepfakes\\training_real_faces\\xeszqdbvwi\\xe...</td>\n",
       "      <td>0</td>\n",
       "    </tr>\n",
       "  </tbody>\n",
       "</table>\n",
       "<p>219095 rows × 2 columns</p>\n",
       "</div>"
      ],
      "text/plain": [
       "                                               image_path  label\n",
       "0       D:\\deepfakes\\training_real_faces\\vpmyeepbep\\vp...      0\n",
       "1       D:\\deepfakes\\training_real_faces\\vpmyeepbep\\vp...      0\n",
       "2       D:\\deepfakes\\training_real_faces\\vpmyeepbep\\vp...      0\n",
       "3       D:\\deepfakes\\training_real_faces\\vpmyeepbep\\vp...      0\n",
       "4       D:\\deepfakes\\training_real_faces\\vpmyeepbep\\vp...      0\n",
       "...                                                   ...    ...\n",
       "219090  D:\\deepfakes\\training_real_faces\\xeszqdbvwi\\xe...      0\n",
       "219091  D:\\deepfakes\\training_real_faces\\xeszqdbvwi\\xe...      0\n",
       "219092  D:\\deepfakes\\training_real_faces\\xeszqdbvwi\\xe...      0\n",
       "219093  D:\\deepfakes\\training_real_faces\\xeszqdbvwi\\xe...      0\n",
       "219094  D:\\deepfakes\\training_real_faces\\xeszqdbvwi\\xe...      0\n",
       "\n",
       "[219095 rows x 2 columns]"
      ]
     },
     "execution_count": 43,
     "metadata": {},
     "output_type": "execute_result"
    }
   ],
   "source": [
    "real_crops_dataframe"
   ]
  },
  {
   "cell_type": "code",
   "execution_count": 44,
   "metadata": {},
   "outputs": [
    {
     "data": {
      "text/html": [
       "<div>\n",
       "<style scoped>\n",
       "    .dataframe tbody tr th:only-of-type {\n",
       "        vertical-align: middle;\n",
       "    }\n",
       "\n",
       "    .dataframe tbody tr th {\n",
       "        vertical-align: top;\n",
       "    }\n",
       "\n",
       "    .dataframe thead th {\n",
       "        text-align: right;\n",
       "    }\n",
       "</style>\n",
       "<table border=\"1\" class=\"dataframe\">\n",
       "  <thead>\n",
       "    <tr style=\"text-align: right;\">\n",
       "      <th></th>\n",
       "      <th>image_path</th>\n",
       "      <th>label</th>\n",
       "    </tr>\n",
       "  </thead>\n",
       "  <tbody>\n",
       "    <tr>\n",
       "      <th>0</th>\n",
       "      <td>D:\\deepfakes\\training_fake_faces2\\wnaweyzlqh\\w...</td>\n",
       "      <td>1</td>\n",
       "    </tr>\n",
       "    <tr>\n",
       "      <th>1</th>\n",
       "      <td>D:\\deepfakes\\training_fake_faces2\\wnaweyzlqh\\w...</td>\n",
       "      <td>1</td>\n",
       "    </tr>\n",
       "    <tr>\n",
       "      <th>2</th>\n",
       "      <td>D:\\deepfakes\\training_fake_faces2\\wnaweyzlqh\\w...</td>\n",
       "      <td>1</td>\n",
       "    </tr>\n",
       "    <tr>\n",
       "      <th>3</th>\n",
       "      <td>D:\\deepfakes\\training_fake_faces2\\wnaweyzlqh\\w...</td>\n",
       "      <td>1</td>\n",
       "    </tr>\n",
       "    <tr>\n",
       "      <th>4</th>\n",
       "      <td>D:\\deepfakes\\training_fake_faces2\\wnaweyzlqh\\w...</td>\n",
       "      <td>1</td>\n",
       "    </tr>\n",
       "    <tr>\n",
       "      <th>...</th>\n",
       "      <td>...</td>\n",
       "      <td>...</td>\n",
       "    </tr>\n",
       "    <tr>\n",
       "      <th>219090</th>\n",
       "      <td>D:\\deepfakes\\training_fake_faces2\\qxbhxtuvmv\\q...</td>\n",
       "      <td>1</td>\n",
       "    </tr>\n",
       "    <tr>\n",
       "      <th>219091</th>\n",
       "      <td>D:\\deepfakes\\training_fake_faces2\\qxbhxtuvmv\\q...</td>\n",
       "      <td>1</td>\n",
       "    </tr>\n",
       "    <tr>\n",
       "      <th>219092</th>\n",
       "      <td>D:\\deepfakes\\training_fake_faces2\\qxbhxtuvmv\\q...</td>\n",
       "      <td>1</td>\n",
       "    </tr>\n",
       "    <tr>\n",
       "      <th>219093</th>\n",
       "      <td>D:\\deepfakes\\training_fake_faces2\\qxbhxtuvmv\\q...</td>\n",
       "      <td>1</td>\n",
       "    </tr>\n",
       "    <tr>\n",
       "      <th>219094</th>\n",
       "      <td>D:\\deepfakes\\training_fake_faces2\\qxbhxtuvmv\\q...</td>\n",
       "      <td>1</td>\n",
       "    </tr>\n",
       "  </tbody>\n",
       "</table>\n",
       "<p>219095 rows × 2 columns</p>\n",
       "</div>"
      ],
      "text/plain": [
       "                                               image_path  label\n",
       "0       D:\\deepfakes\\training_fake_faces2\\wnaweyzlqh\\w...      1\n",
       "1       D:\\deepfakes\\training_fake_faces2\\wnaweyzlqh\\w...      1\n",
       "2       D:\\deepfakes\\training_fake_faces2\\wnaweyzlqh\\w...      1\n",
       "3       D:\\deepfakes\\training_fake_faces2\\wnaweyzlqh\\w...      1\n",
       "4       D:\\deepfakes\\training_fake_faces2\\wnaweyzlqh\\w...      1\n",
       "...                                                   ...    ...\n",
       "219090  D:\\deepfakes\\training_fake_faces2\\qxbhxtuvmv\\q...      1\n",
       "219091  D:\\deepfakes\\training_fake_faces2\\qxbhxtuvmv\\q...      1\n",
       "219092  D:\\deepfakes\\training_fake_faces2\\qxbhxtuvmv\\q...      1\n",
       "219093  D:\\deepfakes\\training_fake_faces2\\qxbhxtuvmv\\q...      1\n",
       "219094  D:\\deepfakes\\training_fake_faces2\\qxbhxtuvmv\\q...      1\n",
       "\n",
       "[219095 rows x 2 columns]"
      ]
     },
     "execution_count": 44,
     "metadata": {},
     "output_type": "execute_result"
    }
   ],
   "source": [
    "fake_crops = os.path.join(dataframes_pairs_folder, \"fake_crops2.csv\")\n",
    "fake_crops_dataframe = pd.read_csv(fake_crops)\n",
    "fake_crops_dataframe = fake_crops_dataframe.drop(non_existing_ids).reset_index()\n",
    "del fake_crops_dataframe[\"index\"]\n",
    "fake_crops_dataframe"
   ]
  },
  {
   "cell_type": "code",
   "execution_count": 45,
   "metadata": {},
   "outputs": [],
   "source": [
    "real_crops_dataframe.to_csv(os.path.join(dataframes_pairs_updated_folder,\"real_crops2.csv\"), index=False)\n",
    "fake_crops_dataframe.to_csv(os.path.join(dataframes_pairs_updated_folder,\"fake_crops2.csv\"), index=False)"
   ]
  },
  {
   "cell_type": "code",
   "execution_count": 46,
   "metadata": {},
   "outputs": [],
   "source": [
    "real_crops = os.path.join(dataframes_pairs_folder, \"real_crops3.csv\")\n",
    "real_crops_dataframe = pd.read_csv(real_crops)"
   ]
  },
  {
   "cell_type": "code",
   "execution_count": 47,
   "metadata": {},
   "outputs": [],
   "source": [
    "image_paths = real_crops_dataframe.image_path\n",
    "non_existing_ids = collect_non_existing_paths_indices(image_paths)"
   ]
  },
  {
   "cell_type": "code",
   "execution_count": 48,
   "metadata": {},
   "outputs": [
    {
     "name": "stdout",
     "output_type": "stream",
     "text": [
      "9873\n"
     ]
    }
   ],
   "source": [
    "print(len(non_existing_ids))"
   ]
  },
  {
   "cell_type": "code",
   "execution_count": 49,
   "metadata": {},
   "outputs": [],
   "source": [
    "real_crops_dataframe = real_crops_dataframe.drop(non_existing_ids).reset_index()"
   ]
  },
  {
   "cell_type": "code",
   "execution_count": 50,
   "metadata": {},
   "outputs": [],
   "source": [
    "del real_crops_dataframe[\"index\"]"
   ]
  },
  {
   "cell_type": "code",
   "execution_count": 51,
   "metadata": {},
   "outputs": [
    {
     "data": {
      "text/html": [
       "<div>\n",
       "<style scoped>\n",
       "    .dataframe tbody tr th:only-of-type {\n",
       "        vertical-align: middle;\n",
       "    }\n",
       "\n",
       "    .dataframe tbody tr th {\n",
       "        vertical-align: top;\n",
       "    }\n",
       "\n",
       "    .dataframe thead th {\n",
       "        text-align: right;\n",
       "    }\n",
       "</style>\n",
       "<table border=\"1\" class=\"dataframe\">\n",
       "  <thead>\n",
       "    <tr style=\"text-align: right;\">\n",
       "      <th></th>\n",
       "      <th>image_path</th>\n",
       "      <th>label</th>\n",
       "    </tr>\n",
       "  </thead>\n",
       "  <tbody>\n",
       "    <tr>\n",
       "      <th>0</th>\n",
       "      <td>D:\\deepfakes\\training_real_faces\\nweufafotd\\nw...</td>\n",
       "      <td>0</td>\n",
       "    </tr>\n",
       "    <tr>\n",
       "      <th>1</th>\n",
       "      <td>D:\\deepfakes\\training_real_faces\\nweufafotd\\nw...</td>\n",
       "      <td>0</td>\n",
       "    </tr>\n",
       "    <tr>\n",
       "      <th>2</th>\n",
       "      <td>D:\\deepfakes\\training_real_faces\\nweufafotd\\nw...</td>\n",
       "      <td>0</td>\n",
       "    </tr>\n",
       "    <tr>\n",
       "      <th>3</th>\n",
       "      <td>D:\\deepfakes\\training_real_faces\\nweufafotd\\nw...</td>\n",
       "      <td>0</td>\n",
       "    </tr>\n",
       "    <tr>\n",
       "      <th>4</th>\n",
       "      <td>D:\\deepfakes\\training_real_faces\\nweufafotd\\nw...</td>\n",
       "      <td>0</td>\n",
       "    </tr>\n",
       "    <tr>\n",
       "      <th>...</th>\n",
       "      <td>...</td>\n",
       "      <td>...</td>\n",
       "    </tr>\n",
       "    <tr>\n",
       "      <th>991164</th>\n",
       "      <td>D:\\deepfakes\\training_real_faces\\mdpyllcmrj\\md...</td>\n",
       "      <td>0</td>\n",
       "    </tr>\n",
       "    <tr>\n",
       "      <th>991165</th>\n",
       "      <td>D:\\deepfakes\\training_real_faces\\mdpyllcmrj\\md...</td>\n",
       "      <td>0</td>\n",
       "    </tr>\n",
       "    <tr>\n",
       "      <th>991166</th>\n",
       "      <td>D:\\deepfakes\\training_real_faces\\mdpyllcmrj\\md...</td>\n",
       "      <td>0</td>\n",
       "    </tr>\n",
       "    <tr>\n",
       "      <th>991167</th>\n",
       "      <td>D:\\deepfakes\\training_real_faces\\mdpyllcmrj\\md...</td>\n",
       "      <td>0</td>\n",
       "    </tr>\n",
       "    <tr>\n",
       "      <th>991168</th>\n",
       "      <td>D:\\deepfakes\\training_real_faces\\mdpyllcmrj\\md...</td>\n",
       "      <td>0</td>\n",
       "    </tr>\n",
       "  </tbody>\n",
       "</table>\n",
       "<p>991169 rows × 2 columns</p>\n",
       "</div>"
      ],
      "text/plain": [
       "                                               image_path  label\n",
       "0       D:\\deepfakes\\training_real_faces\\nweufafotd\\nw...      0\n",
       "1       D:\\deepfakes\\training_real_faces\\nweufafotd\\nw...      0\n",
       "2       D:\\deepfakes\\training_real_faces\\nweufafotd\\nw...      0\n",
       "3       D:\\deepfakes\\training_real_faces\\nweufafotd\\nw...      0\n",
       "4       D:\\deepfakes\\training_real_faces\\nweufafotd\\nw...      0\n",
       "...                                                   ...    ...\n",
       "991164  D:\\deepfakes\\training_real_faces\\mdpyllcmrj\\md...      0\n",
       "991165  D:\\deepfakes\\training_real_faces\\mdpyllcmrj\\md...      0\n",
       "991166  D:\\deepfakes\\training_real_faces\\mdpyllcmrj\\md...      0\n",
       "991167  D:\\deepfakes\\training_real_faces\\mdpyllcmrj\\md...      0\n",
       "991168  D:\\deepfakes\\training_real_faces\\mdpyllcmrj\\md...      0\n",
       "\n",
       "[991169 rows x 2 columns]"
      ]
     },
     "execution_count": 51,
     "metadata": {},
     "output_type": "execute_result"
    }
   ],
   "source": [
    "real_crops_dataframe"
   ]
  },
  {
   "cell_type": "code",
   "execution_count": 52,
   "metadata": {},
   "outputs": [
    {
     "data": {
      "text/html": [
       "<div>\n",
       "<style scoped>\n",
       "    .dataframe tbody tr th:only-of-type {\n",
       "        vertical-align: middle;\n",
       "    }\n",
       "\n",
       "    .dataframe tbody tr th {\n",
       "        vertical-align: top;\n",
       "    }\n",
       "\n",
       "    .dataframe thead th {\n",
       "        text-align: right;\n",
       "    }\n",
       "</style>\n",
       "<table border=\"1\" class=\"dataframe\">\n",
       "  <thead>\n",
       "    <tr style=\"text-align: right;\">\n",
       "      <th></th>\n",
       "      <th>image_path</th>\n",
       "      <th>label</th>\n",
       "    </tr>\n",
       "  </thead>\n",
       "  <tbody>\n",
       "    <tr>\n",
       "      <th>0</th>\n",
       "      <td>D:\\deepfakes\\training_fake_faces3\\rpxnyljmsf\\r...</td>\n",
       "      <td>1</td>\n",
       "    </tr>\n",
       "    <tr>\n",
       "      <th>1</th>\n",
       "      <td>D:\\deepfakes\\training_fake_faces3\\rpxnyljmsf\\r...</td>\n",
       "      <td>1</td>\n",
       "    </tr>\n",
       "    <tr>\n",
       "      <th>2</th>\n",
       "      <td>D:\\deepfakes\\training_fake_faces3\\rpxnyljmsf\\r...</td>\n",
       "      <td>1</td>\n",
       "    </tr>\n",
       "    <tr>\n",
       "      <th>3</th>\n",
       "      <td>D:\\deepfakes\\training_fake_faces3\\rpxnyljmsf\\r...</td>\n",
       "      <td>1</td>\n",
       "    </tr>\n",
       "    <tr>\n",
       "      <th>4</th>\n",
       "      <td>D:\\deepfakes\\training_fake_faces3\\rpxnyljmsf\\r...</td>\n",
       "      <td>1</td>\n",
       "    </tr>\n",
       "    <tr>\n",
       "      <th>...</th>\n",
       "      <td>...</td>\n",
       "      <td>...</td>\n",
       "    </tr>\n",
       "    <tr>\n",
       "      <th>991164</th>\n",
       "      <td>C:\\Users\\Augustas\\Documents\\training_fake_face...</td>\n",
       "      <td>1</td>\n",
       "    </tr>\n",
       "    <tr>\n",
       "      <th>991165</th>\n",
       "      <td>C:\\Users\\Augustas\\Documents\\training_fake_face...</td>\n",
       "      <td>1</td>\n",
       "    </tr>\n",
       "    <tr>\n",
       "      <th>991166</th>\n",
       "      <td>C:\\Users\\Augustas\\Documents\\training_fake_face...</td>\n",
       "      <td>1</td>\n",
       "    </tr>\n",
       "    <tr>\n",
       "      <th>991167</th>\n",
       "      <td>C:\\Users\\Augustas\\Documents\\training_fake_face...</td>\n",
       "      <td>1</td>\n",
       "    </tr>\n",
       "    <tr>\n",
       "      <th>991168</th>\n",
       "      <td>C:\\Users\\Augustas\\Documents\\training_fake_face...</td>\n",
       "      <td>1</td>\n",
       "    </tr>\n",
       "  </tbody>\n",
       "</table>\n",
       "<p>991169 rows × 2 columns</p>\n",
       "</div>"
      ],
      "text/plain": [
       "                                               image_path  label\n",
       "0       D:\\deepfakes\\training_fake_faces3\\rpxnyljmsf\\r...      1\n",
       "1       D:\\deepfakes\\training_fake_faces3\\rpxnyljmsf\\r...      1\n",
       "2       D:\\deepfakes\\training_fake_faces3\\rpxnyljmsf\\r...      1\n",
       "3       D:\\deepfakes\\training_fake_faces3\\rpxnyljmsf\\r...      1\n",
       "4       D:\\deepfakes\\training_fake_faces3\\rpxnyljmsf\\r...      1\n",
       "...                                                   ...    ...\n",
       "991164  C:\\Users\\Augustas\\Documents\\training_fake_face...      1\n",
       "991165  C:\\Users\\Augustas\\Documents\\training_fake_face...      1\n",
       "991166  C:\\Users\\Augustas\\Documents\\training_fake_face...      1\n",
       "991167  C:\\Users\\Augustas\\Documents\\training_fake_face...      1\n",
       "991168  C:\\Users\\Augustas\\Documents\\training_fake_face...      1\n",
       "\n",
       "[991169 rows x 2 columns]"
      ]
     },
     "execution_count": 52,
     "metadata": {},
     "output_type": "execute_result"
    }
   ],
   "source": [
    "fake_crops = os.path.join(dataframes_pairs_folder, \"fake_crops3.csv\")\n",
    "fake_crops_dataframe = pd.read_csv(fake_crops)\n",
    "fake_crops_dataframe = fake_crops_dataframe.drop(non_existing_ids).reset_index()\n",
    "del fake_crops_dataframe[\"index\"]\n",
    "fake_crops_dataframe"
   ]
  },
  {
   "cell_type": "code",
   "execution_count": 53,
   "metadata": {},
   "outputs": [],
   "source": [
    "real_crops_dataframe.to_csv(os.path.join(dataframes_pairs_updated_folder,\"real_crops3.csv\"), index=False)\n",
    "fake_crops_dataframe.to_csv(os.path.join(dataframes_pairs_updated_folder,\"fake_crops3.csv\"), index=False)"
   ]
  },
  {
   "cell_type": "code",
   "execution_count": null,
   "metadata": {},
   "outputs": [],
   "source": []
  }
 ],
 "metadata": {
  "kernelspec": {
   "display_name": "deepfakes",
   "language": "python",
   "name": "deepfakes"
  },
  "language_info": {
   "codemirror_mode": {
    "name": "ipython",
    "version": 3
   },
   "file_extension": ".py",
   "mimetype": "text/x-python",
   "name": "python",
   "nbconvert_exporter": "python",
   "pygments_lexer": "ipython3",
   "version": "3.6.10"
  }
 },
 "nbformat": 4,
 "nbformat_minor": 4
}
