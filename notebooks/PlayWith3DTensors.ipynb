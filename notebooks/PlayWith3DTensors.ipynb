{
 "cells": [
  {
   "cell_type": "code",
   "execution_count": 1,
   "metadata": {},
   "outputs": [],
   "source": [
    "import os\n",
    "import torch\n",
    "\n",
    "from albumentations.pytorch.functional import img_to_tensor\n",
    "\n",
    "from PIL import Image\n",
    "import numpy as np\n",
    "\n",
    "from efficientnet_pytorch_3d import EfficientNet3D"
   ]
  },
  {
   "cell_type": "code",
   "execution_count": 2,
   "metadata": {},
   "outputs": [],
   "source": [
    "image_folder_path = r\"D:\\deepfakes\\training_real_faces\\aajsqyyjni\""
   ]
  },
  {
   "cell_type": "code",
   "execution_count": 3,
   "metadata": {},
   "outputs": [],
   "source": [
    "path1 = os.path.join(image_folder_path, \"aajsqyyjni_0.png\")\n",
    "path2 = os.path.join(image_folder_path, \"aajsqyyjni_20.png\")\n",
    "path3 = os.path.join(image_folder_path, \"aajsqyyjni_40.png\")\n",
    "path4 = os.path.join(image_folder_path, \"aajsqyyjni_60.png\")\n",
    "path5 = os.path.join(image_folder_path, \"aajsqyyjni_80.png\")"
   ]
  },
  {
   "cell_type": "code",
   "execution_count": 4,
   "metadata": {},
   "outputs": [],
   "source": [
    "img1 = Image.open(path1).convert(\"RGB\")\n",
    "img2 = Image.open(path1).convert(\"RGB\")\n",
    "img3 = Image.open(path1).convert(\"RGB\")\n",
    "img4 = Image.open(path1).convert(\"RGB\")\n",
    "img5 = Image.open(path1).convert(\"RGB\")"
   ]
  },
  {
   "cell_type": "code",
   "execution_count": 5,
   "metadata": {},
   "outputs": [],
   "source": [
    "img1 = np.array(img1)\n",
    "img2 = np.array(img2)\n",
    "img3 = np.array(img3)\n",
    "img4 = np.array(img4)\n",
    "img5 = np.array(img5)"
   ]
  },
  {
   "cell_type": "code",
   "execution_count": 6,
   "metadata": {},
   "outputs": [],
   "source": [
    "MEAN = [0.485, 0.456, 0.406]\n",
    "STD = [0.229, 0.224, 0.225]"
   ]
  },
  {
   "cell_type": "code",
   "execution_count": 7,
   "metadata": {},
   "outputs": [],
   "source": [
    "img1 = img_to_tensor(img1, {\"mean\": MEAN,\"std\": STD})\n",
    "img2 = img_to_tensor(img2, {\"mean\": MEAN, \"std\": STD})\n",
    "img3 = img_to_tensor(img3, {\"mean\": MEAN, \"std\": STD})\n",
    "img4 = img_to_tensor(img4, {\"mean\": MEAN, \"std\": STD})\n",
    "img5 = img_to_tensor(img5, {\"mean\": MEAN, \"std\": STD})"
   ]
  },
  {
   "cell_type": "code",
   "execution_count": 8,
   "metadata": {},
   "outputs": [
    {
     "data": {
      "text/plain": [
       "torch.Size([3, 396, 247])"
      ]
     },
     "execution_count": 8,
     "metadata": {},
     "output_type": "execute_result"
    }
   ],
   "source": [
    "img1.shape"
   ]
  },
  {
   "cell_type": "code",
   "execution_count": 9,
   "metadata": {},
   "outputs": [
    {
     "data": {
      "text/plain": [
       "torch.Size([3, 396, 247])"
      ]
     },
     "execution_count": 9,
     "metadata": {},
     "output_type": "execute_result"
    }
   ],
   "source": [
    "img2.shape"
   ]
  },
  {
   "cell_type": "code",
   "execution_count": 10,
   "metadata": {},
   "outputs": [
    {
     "data": {
      "text/plain": [
       "torch.Size([3, 396, 247])"
      ]
     },
     "execution_count": 10,
     "metadata": {},
     "output_type": "execute_result"
    }
   ],
   "source": [
    "img3.shape"
   ]
  },
  {
   "cell_type": "code",
   "execution_count": 11,
   "metadata": {},
   "outputs": [],
   "source": [
    "a = torch.stack([img1, img2, img3, img4, img5], dim=1)"
   ]
  },
  {
   "cell_type": "code",
   "execution_count": 12,
   "metadata": {},
   "outputs": [
    {
     "data": {
      "text/plain": [
       "torch.Size([3, 5, 396, 247])"
      ]
     },
     "execution_count": 12,
     "metadata": {},
     "output_type": "execute_result"
    }
   ],
   "source": [
    "a.shape"
   ]
  },
  {
   "cell_type": "code",
   "execution_count": 22,
   "metadata": {},
   "outputs": [],
   "source": [
    "model = EfficientNet3D.from_name(\"efficientnet-b7\", override_params={'num_classes': 1})\n",
    "model = model.cuda()"
   ]
  },
  {
   "cell_type": "code",
   "execution_count": null,
   "metadata": {},
   "outputs": [],
   "source": []
  }
 ],
 "metadata": {
  "kernelspec": {
   "display_name": "deepfakes",
   "language": "python",
   "name": "deepfakes"
  },
  "language_info": {
   "codemirror_mode": {
    "name": "ipython",
    "version": 3
   },
   "file_extension": ".py",
   "mimetype": "text/x-python",
   "name": "python",
   "nbconvert_exporter": "python",
   "pygments_lexer": "ipython3",
   "version": "3.6.10"
  }
 },
 "nbformat": 4,
 "nbformat_minor": 4
}
