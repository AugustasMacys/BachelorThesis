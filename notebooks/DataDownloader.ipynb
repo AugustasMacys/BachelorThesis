{
 "cells": [
  {
   "cell_type": "code",
   "execution_count": 6,
   "metadata": {},
   "outputs": [
    {
     "name": "stderr",
     "output_type": "stream",
     "text": [
      "UsageError: Line magic function `%pycodestyle_off` not found.\n"
     ]
    }
   ],
   "source": [
    "# %reload_ext pycodestyle_magic\n",
    "%pycodestyle_off"
   ]
  },
  {
   "cell_type": "code",
   "execution_count": 12,
   "metadata": {
    "code_folding": []
   },
   "outputs": [],
   "source": [
    "import os\n",
    "import requests\n",
    "import shutil\n",
    "import subprocess\n",
    "from urllib.request import urlretrieve\n",
    "import wget"
   ]
  },
  {
   "cell_type": "code",
   "execution_count": 13,
   "metadata": {},
   "outputs": [],
   "source": [
    "DEST = r\"D:\\deepfakes\\data\\train\"\n",
    "PREFIX = r\"https://www.kaggle.com/c/16880/datadownload\"\n",
    "COOKIES_PATH = r\"D:\\deepfakes\\cookies\\kaggle.com_cookies.txt\""
   ]
  },
  {
   "cell_type": "code",
   "execution_count": 17,
   "metadata": {},
   "outputs": [],
   "source": [
    "filenames = [f\"dfdc_train_part_0{i}.zip\" for i in [6, 7, 8, 9]]"
   ]
  },
  {
   "cell_type": "code",
   "execution_count": 18,
   "metadata": {},
   "outputs": [],
   "source": [
    "def download_training_files(dest=DEST, cookies=COOKIES_PATH, filenames=filenames):\n",
    "    for filename in filenames:\n",
    "        url = PREFIX + '/' + filename\n",
    "        download_string = \"wget\" + ' ' +  \"--load-cookies \" + COOKIES_PATH + ' ' + url + ' ' + \"-P\" + ' ' + DEST\n",
    "        print(\"downloading: {}\".format(url))\n",
    "        subprocess.run(download_string, shell=True, check=True)"
   ]
  },
  {
   "cell_type": "code",
   "execution_count": 19,
   "metadata": {},
   "outputs": [
    {
     "name": "stdout",
     "output_type": "stream",
     "text": [
      "downloading: https://www.kaggle.com/c/16880/datadownload/dfdc_train_part_06.zip\n",
      "downloading: https://www.kaggle.com/c/16880/datadownload/dfdc_train_part_07.zip\n",
      "downloading: https://www.kaggle.com/c/16880/datadownload/dfdc_train_part_08.zip\n",
      "downloading: https://www.kaggle.com/c/16880/datadownload/dfdc_train_part_09.zip\n"
     ]
    }
   ],
   "source": [
    "download_training_files()"
   ]
  },
  {
   "cell_type": "code",
   "execution_count": 10,
   "metadata": {},
   "outputs": [
    {
     "data": {
      "text/plain": [
       "['dfdc_train_part_21.zip']"
      ]
     },
     "execution_count": 10,
     "metadata": {},
     "output_type": "execute_result"
    }
   ],
   "source": [
    "filenames"
   ]
  },
  {
   "cell_type": "code",
   "execution_count": null,
   "metadata": {},
   "outputs": [],
   "source": []
  }
 ],
 "metadata": {
  "kernelspec": {
   "display_name": "deepfakes",
   "language": "python",
   "name": "deepfakes"
  },
  "language_info": {
   "codemirror_mode": {
    "name": "ipython",
    "version": 3
   },
   "file_extension": ".py",
   "mimetype": "text/x-python",
   "name": "python",
   "nbconvert_exporter": "python",
   "pygments_lexer": "ipython3",
   "version": "3.6.10"
  }
 },
 "nbformat": 4,
 "nbformat_minor": 4
}
