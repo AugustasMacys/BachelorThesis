{
 "cells": [
  {
   "cell_type": "code",
   "execution_count": 49,
   "metadata": {},
   "outputs": [],
   "source": [
    "import os\n",
    "from glob import glob\n",
    "import pandas as pd\n",
    "\n",
    "from random import randrange\n",
    "import pickle\n",
    "import numpy as np\n",
    "import ntpath\n",
    "\n",
    "\n",
    "import cv2"
   ]
  },
  {
   "cell_type": "code",
   "execution_count": 3,
   "metadata": {},
   "outputs": [],
   "source": [
    "df_path = r\"D:/deepfakes/dataframes_3dcnn/3dcnn_dataframe.csv\"\n",
    "df = pd.read_csv(df_path)"
   ]
  },
  {
   "cell_type": "code",
   "execution_count": 4,
   "metadata": {},
   "outputs": [
    {
     "data": {
      "text/html": [
       "<div>\n",
       "<style scoped>\n",
       "    .dataframe tbody tr th:only-of-type {\n",
       "        vertical-align: middle;\n",
       "    }\n",
       "\n",
       "    .dataframe tbody tr th {\n",
       "        vertical-align: top;\n",
       "    }\n",
       "\n",
       "    .dataframe thead th {\n",
       "        text-align: right;\n",
       "    }\n",
       "</style>\n",
       "<table border=\"1\" class=\"dataframe\">\n",
       "  <thead>\n",
       "    <tr style=\"text-align: right;\">\n",
       "      <th></th>\n",
       "      <th>real_image_folder</th>\n",
       "      <th>fake_image_folder</th>\n",
       "    </tr>\n",
       "  </thead>\n",
       "  <tbody>\n",
       "    <tr>\n",
       "      <th>0</th>\n",
       "      <td>D:\\deepfakes\\training_real_faces\\wynotylpnm</td>\n",
       "      <td>D:\\deepfakes\\training_fake_faces\\owxbbpjpch</td>\n",
       "    </tr>\n",
       "    <tr>\n",
       "      <th>1</th>\n",
       "      <td>D:\\deepfakes\\training_real_faces\\wclvkepakb</td>\n",
       "      <td>D:\\deepfakes\\training_fake_faces\\htorvhbcae</td>\n",
       "    </tr>\n",
       "    <tr>\n",
       "      <th>2</th>\n",
       "      <td>D:\\deepfakes\\training_real_faces\\vpmyeepbep</td>\n",
       "      <td>D:\\deepfakes\\training_fake_faces\\fckxaqjbxk</td>\n",
       "    </tr>\n",
       "    <tr>\n",
       "      <th>3</th>\n",
       "      <td>D:\\deepfakes\\training_real_faces\\jawgcggquk</td>\n",
       "      <td>D:\\deepfakes\\training_fake_faces\\sphirandia</td>\n",
       "    </tr>\n",
       "    <tr>\n",
       "      <th>4</th>\n",
       "      <td>D:\\deepfakes\\training_real_faces\\qarqtkvgby</td>\n",
       "      <td>D:\\deepfakes\\training_fake_faces\\vsmadeuczx</td>\n",
       "    </tr>\n",
       "    <tr>\n",
       "      <th>...</th>\n",
       "      <td>...</td>\n",
       "      <td>...</td>\n",
       "    </tr>\n",
       "    <tr>\n",
       "      <th>99995</th>\n",
       "      <td>D:\\deepfakes\\training_real_faces\\cnvquynriz</td>\n",
       "      <td>D:\\deepfakes\\training_fake_faces\\uowiocuqqt</td>\n",
       "    </tr>\n",
       "    <tr>\n",
       "      <th>99996</th>\n",
       "      <td>D:\\deepfakes\\training_real_faces\\moyljhcxok</td>\n",
       "      <td>D:\\deepfakes\\training_fake_faces\\tnaeehpcnb</td>\n",
       "    </tr>\n",
       "    <tr>\n",
       "      <th>99997</th>\n",
       "      <td>D:\\deepfakes\\training_real_faces\\ikebomnsiq</td>\n",
       "      <td>D:\\deepfakes\\training_fake_faces\\pdooqxqfrm</td>\n",
       "    </tr>\n",
       "    <tr>\n",
       "      <th>99998</th>\n",
       "      <td>D:\\deepfakes\\training_real_faces\\kudvvlgiff</td>\n",
       "      <td>D:\\deepfakes\\training_fake_faces\\djjdcnhlma</td>\n",
       "    </tr>\n",
       "    <tr>\n",
       "      <th>99999</th>\n",
       "      <td>D:\\deepfakes\\training_real_faces\\hysmzkqsdl</td>\n",
       "      <td>D:\\deepfakes\\training_fake_faces\\ohmkmcfxul</td>\n",
       "    </tr>\n",
       "  </tbody>\n",
       "</table>\n",
       "<p>100000 rows × 2 columns</p>\n",
       "</div>"
      ],
      "text/plain": [
       "                                 real_image_folder  \\\n",
       "0      D:\\deepfakes\\training_real_faces\\wynotylpnm   \n",
       "1      D:\\deepfakes\\training_real_faces\\wclvkepakb   \n",
       "2      D:\\deepfakes\\training_real_faces\\vpmyeepbep   \n",
       "3      D:\\deepfakes\\training_real_faces\\jawgcggquk   \n",
       "4      D:\\deepfakes\\training_real_faces\\qarqtkvgby   \n",
       "...                                            ...   \n",
       "99995  D:\\deepfakes\\training_real_faces\\cnvquynriz   \n",
       "99996  D:\\deepfakes\\training_real_faces\\moyljhcxok   \n",
       "99997  D:\\deepfakes\\training_real_faces\\ikebomnsiq   \n",
       "99998  D:\\deepfakes\\training_real_faces\\kudvvlgiff   \n",
       "99999  D:\\deepfakes\\training_real_faces\\hysmzkqsdl   \n",
       "\n",
       "                                 fake_image_folder  \n",
       "0      D:\\deepfakes\\training_fake_faces\\owxbbpjpch  \n",
       "1      D:\\deepfakes\\training_fake_faces\\htorvhbcae  \n",
       "2      D:\\deepfakes\\training_fake_faces\\fckxaqjbxk  \n",
       "3      D:\\deepfakes\\training_fake_faces\\sphirandia  \n",
       "4      D:\\deepfakes\\training_fake_faces\\vsmadeuczx  \n",
       "...                                            ...  \n",
       "99995  D:\\deepfakes\\training_fake_faces\\uowiocuqqt  \n",
       "99996  D:\\deepfakes\\training_fake_faces\\tnaeehpcnb  \n",
       "99997  D:\\deepfakes\\training_fake_faces\\pdooqxqfrm  \n",
       "99998  D:\\deepfakes\\training_fake_faces\\djjdcnhlma  \n",
       "99999  D:\\deepfakes\\training_fake_faces\\ohmkmcfxul  \n",
       "\n",
       "[100000 rows x 2 columns]"
      ]
     },
     "execution_count": 4,
     "metadata": {},
     "output_type": "execute_result"
    }
   ],
   "source": [
    "df"
   ]
  },
  {
   "cell_type": "code",
   "execution_count": 5,
   "metadata": {},
   "outputs": [],
   "source": [
    "row = df.iloc[100]"
   ]
  },
  {
   "cell_type": "code",
   "execution_count": 6,
   "metadata": {},
   "outputs": [],
   "source": [
    "real_image_folder = row[\"real_image_folder\"]\n",
    "fake_image_folder = row[\"fake_image_folder\"]"
   ]
  },
  {
   "cell_type": "code",
   "execution_count": 8,
   "metadata": {},
   "outputs": [],
   "source": [
    "a = os.path.join(real_image_folder, '*.png')\n",
    "all_real_images = glob(a)"
   ]
  },
  {
   "cell_type": "code",
   "execution_count": 9,
   "metadata": {},
   "outputs": [
    {
     "data": {
      "text/plain": [
       "['D:\\\\deepfakes\\\\training_real_faces\\\\rmuxlgsedw\\\\rmuxlgsedw_0.png',\n",
       " 'D:\\\\deepfakes\\\\training_real_faces\\\\rmuxlgsedw\\\\rmuxlgsedw_100.png',\n",
       " 'D:\\\\deepfakes\\\\training_real_faces\\\\rmuxlgsedw\\\\rmuxlgsedw_120.png',\n",
       " 'D:\\\\deepfakes\\\\training_real_faces\\\\rmuxlgsedw\\\\rmuxlgsedw_140.png',\n",
       " 'D:\\\\deepfakes\\\\training_real_faces\\\\rmuxlgsedw\\\\rmuxlgsedw_160.png',\n",
       " 'D:\\\\deepfakes\\\\training_real_faces\\\\rmuxlgsedw\\\\rmuxlgsedw_180.png',\n",
       " 'D:\\\\deepfakes\\\\training_real_faces\\\\rmuxlgsedw\\\\rmuxlgsedw_20.png',\n",
       " 'D:\\\\deepfakes\\\\training_real_faces\\\\rmuxlgsedw\\\\rmuxlgsedw_200.png',\n",
       " 'D:\\\\deepfakes\\\\training_real_faces\\\\rmuxlgsedw\\\\rmuxlgsedw_220.png',\n",
       " 'D:\\\\deepfakes\\\\training_real_faces\\\\rmuxlgsedw\\\\rmuxlgsedw_240.png',\n",
       " 'D:\\\\deepfakes\\\\training_real_faces\\\\rmuxlgsedw\\\\rmuxlgsedw_260.png',\n",
       " 'D:\\\\deepfakes\\\\training_real_faces\\\\rmuxlgsedw\\\\rmuxlgsedw_280.png',\n",
       " 'D:\\\\deepfakes\\\\training_real_faces\\\\rmuxlgsedw\\\\rmuxlgsedw_40.png',\n",
       " 'D:\\\\deepfakes\\\\training_real_faces\\\\rmuxlgsedw\\\\rmuxlgsedw_60.png',\n",
       " 'D:\\\\deepfakes\\\\training_real_faces\\\\rmuxlgsedw\\\\rmuxlgsedw_80.png']"
      ]
     },
     "execution_count": 9,
     "metadata": {},
     "output_type": "execute_result"
    }
   ],
   "source": [
    "all_real_images"
   ]
  },
  {
   "cell_type": "code",
   "execution_count": 37,
   "metadata": {},
   "outputs": [],
   "source": [
    "import re\n",
    "def get_video_extracted_identifiers(paths):\n",
    "    video_identifiers = []\n",
    "    for path in paths:\n",
    "        match = re.search('_(\\d+)', path)\n",
    "        if match:\n",
    "            video_identifiers.append(int(match.group(1)))\n",
    "            \n",
    "    return video_identifiers"
   ]
  },
  {
   "cell_type": "code",
   "execution_count": 40,
   "metadata": {},
   "outputs": [],
   "source": [
    "\n",
    "\n",
    "folder_to_identifiers = dict()\n",
    "for i in range(0, 100000):\n",
    "    row = df.iloc[i]\n",
    "    image_folder = row[\"fake_image_folder\"]\n",
    "    if image_folder in folder_to_identifiers:\n",
    "        continue\n",
    "    glob_string = os.path.join(image_folder, '*.png')\n",
    "    all_image_paths = glob(glob_string)\n",
    "    folder_to_identifiers[image_folder] = sorted(get_video_extracted_identifiers(all_image_paths))\n",
    "    \n",
    "f = open(\"fake_folder_to_identifiers.pkl\",\"wb\")\n",
    "pickle.dump(folder_to_identifiers,f)\n",
    "f.close()"
   ]
  },
  {
   "cell_type": "code",
   "execution_count": 15,
   "metadata": {},
   "outputs": [
    {
     "data": {
      "text/plain": [
       "60"
      ]
     },
     "execution_count": 15,
     "metadata": {},
     "output_type": "execute_result"
    }
   ],
   "source": [
    "randrange(40, 140, 20)"
   ]
  },
  {
   "cell_type": "code",
   "execution_count": 17,
   "metadata": {},
   "outputs": [],
   "source": [
    "identifiers = [60, 80, 100, 120, 140]\n",
    "example = all_real_images[0]"
   ]
  },
  {
   "cell_type": "code",
   "execution_count": 22,
   "metadata": {},
   "outputs": [],
   "source": [
    "b = [os.path.join(real_image_folder, '_{}.png'.format(id)) for id in identifiers]"
   ]
  },
  {
   "cell_type": "code",
   "execution_count": 23,
   "metadata": {},
   "outputs": [
    {
     "data": {
      "text/plain": [
       "['D:\\\\deepfakes\\\\training_real_faces\\\\rmuxlgsedw\\\\_60.png',\n",
       " 'D:\\\\deepfakes\\\\training_real_faces\\\\rmuxlgsedw\\\\_80.png',\n",
       " 'D:\\\\deepfakes\\\\training_real_faces\\\\rmuxlgsedw\\\\_100.png',\n",
       " 'D:\\\\deepfakes\\\\training_real_faces\\\\rmuxlgsedw\\\\_120.png',\n",
       " 'D:\\\\deepfakes\\\\training_real_faces\\\\rmuxlgsedw\\\\_140.png']"
      ]
     },
     "execution_count": 23,
     "metadata": {},
     "output_type": "execute_result"
    }
   ],
   "source": [
    "b"
   ]
  },
  {
   "cell_type": "code",
   "execution_count": 41,
   "metadata": {},
   "outputs": [
    {
     "data": {
      "text/plain": [
       "100000"
      ]
     },
     "execution_count": 41,
     "metadata": {},
     "output_type": "execute_result"
    }
   ],
   "source": [
    "len(folder_to_identifiers)"
   ]
  },
  {
   "cell_type": "code",
   "execution_count": 42,
   "metadata": {},
   "outputs": [
    {
     "name": "stdout",
     "output_type": "stream",
     "text": [
      "wynotylpnm\n"
     ]
    }
   ],
   "source": [
    "\n",
    "example = r\"D:\\deepfakes\\training_real_faces\\wynotylpnm\"\n",
    "print(ntpath.basename(example))"
   ]
  },
  {
   "cell_type": "code",
   "execution_count": 45,
   "metadata": {},
   "outputs": [],
   "source": [
    "example = folder_to_identifiers[r\"D:\\deepfakes\\training_fake_faces\\owxbbpjpch\"]"
   ]
  },
  {
   "cell_type": "code",
   "execution_count": 46,
   "metadata": {},
   "outputs": [
    {
     "data": {
      "text/plain": [
       "[0, 20, 40, 60, 80, 100, 120, 140, 160, 180, 200, 220, 240, 260, 280]"
      ]
     },
     "execution_count": 46,
     "metadata": {},
     "output_type": "execute_result"
    }
   ],
   "source": [
    "example"
   ]
  },
  {
   "cell_type": "code",
   "execution_count": 56,
   "metadata": {},
   "outputs": [
    {
     "name": "stdout",
     "output_type": "stream",
     "text": [
      "(297, 196, 3)\n",
      "(298, 183, 3)\n",
      "(319, 201, 3)\n",
      "(303, 201, 3)\n",
      "(286, 186, 3)\n"
     ]
    },
    {
     "ename": "ValueError",
     "evalue": "all input arrays must have the same shape",
     "output_type": "error",
     "traceback": [
      "\u001b[1;31m---------------------------------------------------------------------------\u001b[0m",
      "\u001b[1;31mValueError\u001b[0m                                Traceback (most recent call last)",
      "\u001b[1;32m<ipython-input-56-1b5e6a35b5f6>\u001b[0m in \u001b[0;36m<module>\u001b[1;34m\u001b[0m\n\u001b[0;32m     14\u001b[0m     \u001b[0mprefix\u001b[0m \u001b[1;33m=\u001b[0m \u001b[0mntpath\u001b[0m\u001b[1;33m.\u001b[0m\u001b[0mbasename\u001b[0m\u001b[1;33m(\u001b[0m\u001b[0mimage_folder\u001b[0m\u001b[1;33m)\u001b[0m\u001b[1;33m\u001b[0m\u001b[1;33m\u001b[0m\u001b[0m\n\u001b[0;32m     15\u001b[0m     \u001b[0mfull_prefix\u001b[0m \u001b[1;33m=\u001b[0m \u001b[0mos\u001b[0m\u001b[1;33m.\u001b[0m\u001b[0mpath\u001b[0m\u001b[1;33m.\u001b[0m\u001b[0mjoin\u001b[0m\u001b[1;33m(\u001b[0m\u001b[0mimage_folder\u001b[0m\u001b[1;33m,\u001b[0m \u001b[0mprefix\u001b[0m\u001b[1;33m)\u001b[0m\u001b[1;33m\u001b[0m\u001b[1;33m\u001b[0m\u001b[0m\n\u001b[1;32m---> 16\u001b[1;33m     \u001b[0msequence\u001b[0m \u001b[1;33m=\u001b[0m \u001b[0mnp\u001b[0m\u001b[1;33m.\u001b[0m\u001b[0mstack\u001b[0m\u001b[1;33m(\u001b[0m\u001b[1;33m[\u001b[0m\u001b[0mload_img\u001b[0m\u001b[1;33m(\u001b[0m\u001b[0mfull_prefix\u001b[0m\u001b[1;33m,\u001b[0m \u001b[0midentifier\u001b[0m\u001b[1;33m)\u001b[0m \u001b[1;32mfor\u001b[0m \u001b[0midentifier\u001b[0m \u001b[1;32min\u001b[0m \u001b[0mindices\u001b[0m\u001b[1;33m]\u001b[0m\u001b[1;33m)\u001b[0m\u001b[1;33m\u001b[0m\u001b[1;33m\u001b[0m\u001b[0m\n\u001b[0m",
      "\u001b[1;32m<__array_function__ internals>\u001b[0m in \u001b[0;36mstack\u001b[1;34m(*args, **kwargs)\u001b[0m\n",
      "\u001b[1;32m~\\Anaconda3\\envs\\deepfakes\\lib\\site-packages\\numpy\\core\\shape_base.py\u001b[0m in \u001b[0;36mstack\u001b[1;34m(arrays, axis, out)\u001b[0m\n\u001b[0;32m    425\u001b[0m     \u001b[0mshapes\u001b[0m \u001b[1;33m=\u001b[0m \u001b[1;33m{\u001b[0m\u001b[0marr\u001b[0m\u001b[1;33m.\u001b[0m\u001b[0mshape\u001b[0m \u001b[1;32mfor\u001b[0m \u001b[0marr\u001b[0m \u001b[1;32min\u001b[0m \u001b[0marrays\u001b[0m\u001b[1;33m}\u001b[0m\u001b[1;33m\u001b[0m\u001b[1;33m\u001b[0m\u001b[0m\n\u001b[0;32m    426\u001b[0m     \u001b[1;32mif\u001b[0m \u001b[0mlen\u001b[0m\u001b[1;33m(\u001b[0m\u001b[0mshapes\u001b[0m\u001b[1;33m)\u001b[0m \u001b[1;33m!=\u001b[0m \u001b[1;36m1\u001b[0m\u001b[1;33m:\u001b[0m\u001b[1;33m\u001b[0m\u001b[1;33m\u001b[0m\u001b[0m\n\u001b[1;32m--> 427\u001b[1;33m         \u001b[1;32mraise\u001b[0m \u001b[0mValueError\u001b[0m\u001b[1;33m(\u001b[0m\u001b[1;34m'all input arrays must have the same shape'\u001b[0m\u001b[1;33m)\u001b[0m\u001b[1;33m\u001b[0m\u001b[1;33m\u001b[0m\u001b[0m\n\u001b[0m\u001b[0;32m    428\u001b[0m \u001b[1;33m\u001b[0m\u001b[0m\n\u001b[0;32m    429\u001b[0m     \u001b[0mresult_ndim\u001b[0m \u001b[1;33m=\u001b[0m \u001b[0marrays\u001b[0m\u001b[1;33m[\u001b[0m\u001b[1;36m0\u001b[0m\u001b[1;33m]\u001b[0m\u001b[1;33m.\u001b[0m\u001b[0mndim\u001b[0m \u001b[1;33m+\u001b[0m \u001b[1;36m1\u001b[0m\u001b[1;33m\u001b[0m\u001b[1;33m\u001b[0m\u001b[0m\n",
      "\u001b[1;31mValueError\u001b[0m: all input arrays must have the same shape"
     ]
    }
   ],
   "source": [
    "image_folder = r\"D:\\deepfakes\\training_fake_faces\\owxbbpjpch\"\n",
    "\n",
    "def load_img(track_path, idx):\n",
    "    full_image_path = track_path + \"_{}.png\".format(idx)\n",
    "    img = cv2.imread(full_image_path)\n",
    "    img = cv2.cvtColor(img, cv2.COLOR_BGR2RGB)\n",
    "    print(img.shape)\n",
    "\n",
    "    return img\n",
    "\n",
    "\n",
    "if len(example) > 10:\n",
    "    indices = example[4:9]\n",
    "    prefix = ntpath.basename(image_folder)\n",
    "    full_prefix = os.path.join(image_folder, prefix)\n",
    "    sequence = np.stack([load_img(full_prefix, identifier) for identifier in indices])"
   ]
  },
  {
   "cell_type": "code",
   "execution_count": null,
   "metadata": {},
   "outputs": [],
   "source": []
  }
 ],
 "metadata": {
  "kernelspec": {
   "display_name": "deepfakes",
   "language": "python",
   "name": "deepfakes"
  },
  "language_info": {
   "codemirror_mode": {
    "name": "ipython",
    "version": 3
   },
   "file_extension": ".py",
   "mimetype": "text/x-python",
   "name": "python",
   "nbconvert_exporter": "python",
   "pygments_lexer": "ipython3",
   "version": "3.6.10"
  }
 },
 "nbformat": 4,
 "nbformat_minor": 4
}
