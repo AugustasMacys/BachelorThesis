{
 "cells": [
  {
   "cell_type": "code",
   "execution_count": 30,
   "metadata": {},
   "outputs": [],
   "source": [
    "# %reload_ext pycodestyle_magic\n",
    "%pycodestyle_off"
   ]
  },
  {
   "cell_type": "code",
   "execution_count": 55,
   "metadata": {
    "code_folding": []
   },
   "outputs": [],
   "source": [
    "import os\n",
    "import requests\n",
    "import shutil\n",
    "import subprocess\n",
    "from urllib.request import urlretrieve\n",
    "import wget"
   ]
  },
  {
   "cell_type": "code",
   "execution_count": 56,
   "metadata": {},
   "outputs": [],
   "source": [
    "DEST = r\"D:\\deepfakes\\data\\train\"\n",
    "PREFIX = r\"https://www.kaggle.com/c/16880/datadownload\"\n",
    "COOKIES_PATH = r\"cookies\\kaggle.com_cookies.txt\""
   ]
  },
  {
   "cell_type": "code",
   "execution_count": 57,
   "metadata": {},
   "outputs": [],
   "source": [
    "filenames = [f\"dfdc_train_part_{i}.zip\" for i in range(22, 30)]"
   ]
  },
  {
   "cell_type": "code",
   "execution_count": 60,
   "metadata": {},
   "outputs": [],
   "source": [
    "def download_training_files(dest=DEST, cookies=COOKIES_PATH, filenames=filenames):\n",
    "    for filename in filenames:\n",
    "        url = PREFIX + '/' + filename\n",
    "        download_string = \"wget\" + ' ' +  \"--load-cookies \" + COOKIES_PATH + ' ' + url + ' ' + \"-P\" + ' ' + DEST\n",
    "        print(\"downloading: {}\".format(url))\n",
    "        subprocess.run(download_string, shell=True, check=True)"
   ]
  },
  {
   "cell_type": "code",
   "execution_count": 61,
   "metadata": {},
   "outputs": [
    {
     "name": "stdout",
     "output_type": "stream",
     "text": [
      "downloading: https://www.kaggle.com/c/16880/datadownload/dfdc_train_part_22.zip\n",
      "downloading: https://www.kaggle.com/c/16880/datadownload/dfdc_train_part_23.zip\n",
      "downloading: https://www.kaggle.com/c/16880/datadownload/dfdc_train_part_24.zip\n",
      "downloading: https://www.kaggle.com/c/16880/datadownload/dfdc_train_part_25.zip\n",
      "downloading: https://www.kaggle.com/c/16880/datadownload/dfdc_train_part_26.zip\n",
      "downloading: https://www.kaggle.com/c/16880/datadownload/dfdc_train_part_27.zip\n",
      "downloading: https://www.kaggle.com/c/16880/datadownload/dfdc_train_part_28.zip\n",
      "downloading: https://www.kaggle.com/c/16880/datadownload/dfdc_train_part_29.zip\n"
     ]
    }
   ],
   "source": [
    "download_training_files()"
   ]
  },
  {
   "cell_type": "code",
   "execution_count": 10,
   "metadata": {},
   "outputs": [
    {
     "data": {
      "text/plain": [
       "['dfdc_train_part_21.zip']"
      ]
     },
     "execution_count": 10,
     "metadata": {},
     "output_type": "execute_result"
    }
   ],
   "source": [
    "filenames"
   ]
  },
  {
   "cell_type": "code",
   "execution_count": null,
   "metadata": {},
   "outputs": [],
   "source": []
  }
 ],
 "metadata": {
  "kernelspec": {
   "display_name": "deepfakes",
   "language": "python",
   "name": "deepfakes"
  },
  "language_info": {
   "codemirror_mode": {
    "name": "ipython",
    "version": 3
   },
   "file_extension": ".py",
   "mimetype": "text/x-python",
   "name": "python",
   "nbconvert_exporter": "python",
   "pygments_lexer": "ipython3",
   "version": "3.6.10"
  }
 },
 "nbformat": 4,
 "nbformat_minor": 4
}
