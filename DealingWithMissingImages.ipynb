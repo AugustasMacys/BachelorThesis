{
 "cells": [
  {
   "cell_type": "code",
   "execution_count": 1,
   "metadata": {},
   "outputs": [],
   "source": [
    "from glob import glob"
   ]
  },
  {
   "cell_type": "code",
   "execution_count": 3,
   "metadata": {},
   "outputs": [],
   "source": [
    "path_example = r\"D:\\deepfakes\\training_real_faces\\aaapwqhxli\\*\""
   ]
  },
  {
   "cell_type": "code",
   "execution_count": 4,
   "metadata": {},
   "outputs": [],
   "source": [
    "a = glob(path_example)"
   ]
  },
  {
   "cell_type": "code",
   "execution_count": 5,
   "metadata": {},
   "outputs": [
    {
     "data": {
      "text/plain": [
       "['D:\\\\deepfakes\\\\training_real_faces\\\\aaapwqhxli\\\\aaapwqhxli_0.png',\n",
       " 'D:\\\\deepfakes\\\\training_real_faces\\\\aaapwqhxli\\\\aaapwqhxli_100.png',\n",
       " 'D:\\\\deepfakes\\\\training_real_faces\\\\aaapwqhxli\\\\aaapwqhxli_120.png',\n",
       " 'D:\\\\deepfakes\\\\training_real_faces\\\\aaapwqhxli\\\\aaapwqhxli_140.png',\n",
       " 'D:\\\\deepfakes\\\\training_real_faces\\\\aaapwqhxli\\\\aaapwqhxli_160.png',\n",
       " 'D:\\\\deepfakes\\\\training_real_faces\\\\aaapwqhxli\\\\aaapwqhxli_180.png',\n",
       " 'D:\\\\deepfakes\\\\training_real_faces\\\\aaapwqhxli\\\\aaapwqhxli_20.png',\n",
       " 'D:\\\\deepfakes\\\\training_real_faces\\\\aaapwqhxli\\\\aaapwqhxli_200.png',\n",
       " 'D:\\\\deepfakes\\\\training_real_faces\\\\aaapwqhxli\\\\aaapwqhxli_220.png',\n",
       " 'D:\\\\deepfakes\\\\training_real_faces\\\\aaapwqhxli\\\\aaapwqhxli_240.png',\n",
       " 'D:\\\\deepfakes\\\\training_real_faces\\\\aaapwqhxli\\\\aaapwqhxli_260.png',\n",
       " 'D:\\\\deepfakes\\\\training_real_faces\\\\aaapwqhxli\\\\aaapwqhxli_280.png',\n",
       " 'D:\\\\deepfakes\\\\training_real_faces\\\\aaapwqhxli\\\\aaapwqhxli_40.png',\n",
       " 'D:\\\\deepfakes\\\\training_real_faces\\\\aaapwqhxli\\\\aaapwqhxli_60.png',\n",
       " 'D:\\\\deepfakes\\\\training_real_faces\\\\aaapwqhxli\\\\aaapwqhxli_80.png']"
      ]
     },
     "execution_count": 5,
     "metadata": {},
     "output_type": "execute_result"
    }
   ],
   "source": [
    "a"
   ]
  },
  {
   "cell_type": "code",
   "execution_count": 6,
   "metadata": {},
   "outputs": [],
   "source": [
    "import ntpath"
   ]
  },
  {
   "cell_type": "code",
   "execution_count": 12,
   "metadata": {},
   "outputs": [],
   "source": [
    "example_file = ntpath.basename(a[2])"
   ]
  },
  {
   "cell_type": "code",
   "execution_count": 13,
   "metadata": {},
   "outputs": [
    {
     "data": {
      "text/plain": [
       "'aaapwqhxli_120.png'"
      ]
     },
     "execution_count": 13,
     "metadata": {},
     "output_type": "execute_result"
    }
   ],
   "source": [
    "example_file"
   ]
  },
  {
   "cell_type": "code",
   "execution_count": 14,
   "metadata": {},
   "outputs": [],
   "source": [
    "import re"
   ]
  },
  {
   "cell_type": "code",
   "execution_count": 15,
   "metadata": {},
   "outputs": [
    {
     "data": {
      "text/plain": [
       "['120']"
      ]
     },
     "execution_count": 15,
     "metadata": {},
     "output_type": "execute_result"
    }
   ],
   "source": [
    "re.findall(r'\\d+', example_file)"
   ]
  },
  {
   "cell_type": "code",
   "execution_count": 16,
   "metadata": {},
   "outputs": [
    {
     "data": {
      "text/plain": [
       "['120']"
      ]
     },
     "execution_count": 16,
     "metadata": {},
     "output_type": "execute_result"
    }
   ],
   "source": [
    "re.findall(r'\\d+', example_file)"
   ]
  },
  {
   "cell_type": "code",
   "execution_count": 18,
   "metadata": {},
   "outputs": [],
   "source": [
    "b = [re.findall(r'\\d+', x)  for x in a]"
   ]
  },
  {
   "cell_type": "code",
   "execution_count": 21,
   "metadata": {},
   "outputs": [],
   "source": [
    "c = [int(item) for sublist in b for item in sublist]"
   ]
  },
  {
   "cell_type": "code",
   "execution_count": 22,
   "metadata": {},
   "outputs": [
    {
     "data": {
      "text/plain": [
       "[0, 100, 120, 140, 160, 180, 20, 200, 220, 240, 260, 280, 40, 60, 80]"
      ]
     },
     "execution_count": 22,
     "metadata": {},
     "output_type": "execute_result"
    }
   ],
   "source": [
    "c"
   ]
  },
  {
   "cell_type": "code",
   "execution_count": 29,
   "metadata": {},
   "outputs": [],
   "source": [
    "example_number = 150"
   ]
  },
  {
   "cell_type": "code",
   "execution_count": 30,
   "metadata": {},
   "outputs": [],
   "source": [
    "def smallest_number_than(number, num_list):\n",
    "    return min(num_list, key=lambda x: (abs(x - number), x))"
   ]
  },
  {
   "cell_type": "code",
   "execution_count": 31,
   "metadata": {},
   "outputs": [
    {
     "data": {
      "text/plain": [
       "140"
      ]
     },
     "execution_count": 31,
     "metadata": {},
     "output_type": "execute_result"
    }
   ],
   "source": [
    "smallest_number_than(example_number, c)"
   ]
  },
  {
   "cell_type": "code",
   "execution_count": 32,
   "metadata": {},
   "outputs": [],
   "source": [
    "def biggest_number_than(number, num_list):\n",
    "    return min(filter(lambda x: x > number, num_list))"
   ]
  },
  {
   "cell_type": "code",
   "execution_count": 33,
   "metadata": {},
   "outputs": [
    {
     "data": {
      "text/plain": [
       "160"
      ]
     },
     "execution_count": 33,
     "metadata": {},
     "output_type": "execute_result"
    }
   ],
   "source": [
    "biggest_number_than(example_number, c)"
   ]
  },
  {
   "cell_type": "code",
   "execution_count": 34,
   "metadata": {},
   "outputs": [],
   "source": [
    "example_path = 'D:\\\\deepfakes\\\\training_real_faces\\\\aaapwqhxli\\\\aaapwqhxli_0.png'"
   ]
  },
  {
   "cell_type": "code",
   "execution_count": 35,
   "metadata": {},
   "outputs": [],
   "source": [
    "number = 30"
   ]
  },
  {
   "cell_type": "code",
   "execution_count": 37,
   "metadata": {},
   "outputs": [
    {
     "data": {
      "text/plain": [
       "'D:\\\\deepfakes\\\\training_real_faces\\\\aaapwqhxli\\\\aaapwqhxli_30.png'"
      ]
     },
     "execution_count": 37,
     "metadata": {},
     "output_type": "execute_result"
    }
   ],
   "source": [
    "example_path.replace(str(0), str(number))"
   ]
  },
  {
   "cell_type": "code",
   "execution_count": null,
   "metadata": {},
   "outputs": [],
   "source": []
  }
 ],
 "metadata": {
  "kernelspec": {
   "display_name": "deepfakes",
   "language": "python",
   "name": "deepfakes"
  },
  "language_info": {
   "codemirror_mode": {
    "name": "ipython",
    "version": 3
   },
   "file_extension": ".py",
   "mimetype": "text/x-python",
   "name": "python",
   "nbconvert_exporter": "python",
   "pygments_lexer": "ipython3",
   "version": "3.6.10"
  }
 },
 "nbformat": 4,
 "nbformat_minor": 4
}
