{
 "cells": [
  {
   "cell_type": "code",
   "execution_count": 4,
   "metadata": {},
   "outputs": [],
   "source": [
    "import pandas as pd\n",
    "import ntpath\n",
    "import os"
   ]
  },
  {
   "cell_type": "code",
   "execution_count": 5,
   "metadata": {},
   "outputs": [],
   "source": [
    "def collect_non_existing_paths_indices(paths):\n",
    "    non_existing_indices = []\n",
    "    for path in paths:\n",
    "        if not os.path.isfile(path):\n",
    "            non_existing_indices.append(paths[paths == path].index[0])\n",
    "            \n",
    "    return non_existing_indices"
   ]
  },
  {
   "cell_type": "code",
   "execution_count": 6,
   "metadata": {},
   "outputs": [],
   "source": [
    "dataframes_path = r\"D:\\deepfakes\\dataframes_pairs\"\n",
    "fake_crops1 = os.path.join(dataframes_path, \"fake_crops.csv\")\n",
    "fake_crops2 = os.path.join(dataframes_path, \"fake_crops2.csv\")\n",
    "fake_crops3 = os.path.join(dataframes_path, \"fake_crops2.csv\")\n",
    "real_crops1 = os.path.join(dataframes_path, \"real_crops.csv\")\n",
    "real_crops2 = os.path.join(dataframes_path, \"real_crops2.csv\")\n",
    "real_crops3 = os.path.join(dataframes_path, \"real_crops3.csv\")"
   ]
  },
  {
   "cell_type": "code",
   "execution_count": 7,
   "metadata": {},
   "outputs": [],
   "source": [
    "# fake_crops1_df = pd.read_csv(fake_crops1)\n",
    "# fake_crops2_df = pd.read_csv(fake_crops2)\n",
    "# fake_crops3_df = pd.read_csv(fake_crops3)\n",
    "real_crops1_df = pd.read_csv(real_crops1)\n",
    "real_crops2_df = pd.read_csv(real_crops2)\n",
    "real_crops3_df = pd.read_csv(real_crops3)"
   ]
  },
  {
   "cell_type": "code",
   "execution_count": 8,
   "metadata": {},
   "outputs": [
    {
     "data": {
      "text/html": [
       "<div>\n",
       "<style scoped>\n",
       "    .dataframe tbody tr th:only-of-type {\n",
       "        vertical-align: middle;\n",
       "    }\n",
       "\n",
       "    .dataframe tbody tr th {\n",
       "        vertical-align: top;\n",
       "    }\n",
       "\n",
       "    .dataframe thead th {\n",
       "        text-align: right;\n",
       "    }\n",
       "</style>\n",
       "<table border=\"1\" class=\"dataframe\">\n",
       "  <thead>\n",
       "    <tr style=\"text-align: right;\">\n",
       "      <th></th>\n",
       "      <th>image_path</th>\n",
       "      <th>label</th>\n",
       "    </tr>\n",
       "  </thead>\n",
       "  <tbody>\n",
       "    <tr>\n",
       "      <th>0</th>\n",
       "      <td>D:\\deepfakes\\training_real_faces\\wynotylpnm\\wy...</td>\n",
       "      <td>0</td>\n",
       "    </tr>\n",
       "    <tr>\n",
       "      <th>1</th>\n",
       "      <td>D:\\deepfakes\\training_real_faces\\wynotylpnm\\wy...</td>\n",
       "      <td>0</td>\n",
       "    </tr>\n",
       "    <tr>\n",
       "      <th>2</th>\n",
       "      <td>D:\\deepfakes\\training_real_faces\\wynotylpnm\\wy...</td>\n",
       "      <td>0</td>\n",
       "    </tr>\n",
       "    <tr>\n",
       "      <th>3</th>\n",
       "      <td>D:\\deepfakes\\training_real_faces\\wynotylpnm\\wy...</td>\n",
       "      <td>0</td>\n",
       "    </tr>\n",
       "    <tr>\n",
       "      <th>4</th>\n",
       "      <td>D:\\deepfakes\\training_real_faces\\wynotylpnm\\wy...</td>\n",
       "      <td>0</td>\n",
       "    </tr>\n",
       "    <tr>\n",
       "      <th>...</th>\n",
       "      <td>...</td>\n",
       "      <td>...</td>\n",
       "    </tr>\n",
       "    <tr>\n",
       "      <th>1499995</th>\n",
       "      <td>D:\\deepfakes\\training_real_faces\\mdpyllcmrj\\md...</td>\n",
       "      <td>0</td>\n",
       "    </tr>\n",
       "    <tr>\n",
       "      <th>1499996</th>\n",
       "      <td>D:\\deepfakes\\training_real_faces\\mdpyllcmrj\\md...</td>\n",
       "      <td>0</td>\n",
       "    </tr>\n",
       "    <tr>\n",
       "      <th>1499997</th>\n",
       "      <td>D:\\deepfakes\\training_real_faces\\mdpyllcmrj\\md...</td>\n",
       "      <td>0</td>\n",
       "    </tr>\n",
       "    <tr>\n",
       "      <th>1499998</th>\n",
       "      <td>D:\\deepfakes\\training_real_faces\\mdpyllcmrj\\md...</td>\n",
       "      <td>0</td>\n",
       "    </tr>\n",
       "    <tr>\n",
       "      <th>1499999</th>\n",
       "      <td>D:\\deepfakes\\training_real_faces\\mdpyllcmrj\\md...</td>\n",
       "      <td>0</td>\n",
       "    </tr>\n",
       "  </tbody>\n",
       "</table>\n",
       "<p>1500000 rows × 2 columns</p>\n",
       "</div>"
      ],
      "text/plain": [
       "                                                image_path  label\n",
       "0        D:\\deepfakes\\training_real_faces\\wynotylpnm\\wy...      0\n",
       "1        D:\\deepfakes\\training_real_faces\\wynotylpnm\\wy...      0\n",
       "2        D:\\deepfakes\\training_real_faces\\wynotylpnm\\wy...      0\n",
       "3        D:\\deepfakes\\training_real_faces\\wynotylpnm\\wy...      0\n",
       "4        D:\\deepfakes\\training_real_faces\\wynotylpnm\\wy...      0\n",
       "...                                                    ...    ...\n",
       "1499995  D:\\deepfakes\\training_real_faces\\mdpyllcmrj\\md...      0\n",
       "1499996  D:\\deepfakes\\training_real_faces\\mdpyllcmrj\\md...      0\n",
       "1499997  D:\\deepfakes\\training_real_faces\\mdpyllcmrj\\md...      0\n",
       "1499998  D:\\deepfakes\\training_real_faces\\mdpyllcmrj\\md...      0\n",
       "1499999  D:\\deepfakes\\training_real_faces\\mdpyllcmrj\\md...      0\n",
       "\n",
       "[1500000 rows x 2 columns]"
      ]
     },
     "execution_count": 8,
     "metadata": {},
     "output_type": "execute_result"
    }
   ],
   "source": [
    "real_crops_df = pd.concat([real_crops1_df, real_crops2_df, real_crops3_df], ignore_index=True)\n",
    "real_crops_df"
   ]
  },
  {
   "cell_type": "code",
   "execution_count": 9,
   "metadata": {},
   "outputs": [],
   "source": [
    "real_paths = real_crops_df.image_path"
   ]
  },
  {
   "cell_type": "code",
   "execution_count": 10,
   "metadata": {},
   "outputs": [],
   "source": [
    "non_existing_indices = collect_non_existing_paths_indices(real_paths)"
   ]
  },
  {
   "cell_type": "code",
   "execution_count": 11,
   "metadata": {},
   "outputs": [
    {
     "data": {
      "text/plain": [
       "12648"
      ]
     },
     "execution_count": 11,
     "metadata": {},
     "output_type": "execute_result"
    }
   ],
   "source": [
    "len(non_existing_indices)"
   ]
  },
  {
   "cell_type": "code",
   "execution_count": null,
   "metadata": {},
   "outputs": [],
   "source": []
  }
 ],
 "metadata": {
  "kernelspec": {
   "display_name": "deepfakes",
   "language": "python",
   "name": "deepfakes"
  },
  "language_info": {
   "codemirror_mode": {
    "name": "ipython",
    "version": 3
   },
   "file_extension": ".py",
   "mimetype": "text/x-python",
   "name": "python",
   "nbconvert_exporter": "python",
   "pygments_lexer": "ipython3",
   "version": "3.6.10"
  }
 },
 "nbformat": 4,
 "nbformat_minor": 4
}
